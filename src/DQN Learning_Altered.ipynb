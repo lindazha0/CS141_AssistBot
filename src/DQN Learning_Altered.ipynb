{
 "cells": [
  {
   "cell_type": "code",
   "execution_count": 18,
   "metadata": {},
   "outputs": [
    {
     "name": "stdout",
     "output_type": "stream",
     "text": [
      "Requirement already satisfied: zhengyang_env_5 in c:\\users\\david\\anaconda3\\envs\\myenv\\lib\\site-packages (0.0.2)\n",
      "Requirement already satisfied: gym in c:\\users\\david\\anaconda3\\envs\\myenv\\lib\\site-packages (from zhengyang_env_5) (0.21.0)\n",
      "Requirement already satisfied: pybullet in c:\\users\\david\\anaconda3\\envs\\myenv\\lib\\site-packages (from zhengyang_env_5) (3.2.5)\n",
      "Requirement already satisfied: cloudpickle>=1.2.0 in c:\\users\\david\\anaconda3\\envs\\myenv\\lib\\site-packages (from gym->zhengyang_env_5) (2.2.1)\n",
      "Requirement already satisfied: importlib-metadata>=4.8.1 in c:\\users\\david\\appdata\\roaming\\python\\python36\\site-packages (from gym->zhengyang_env_5) (4.8.3)\n",
      "Requirement already satisfied: numpy>=1.18.0 in c:\\users\\david\\anaconda3\\envs\\myenv\\lib\\site-packages (from gym->zhengyang_env_5) (1.19.5)\n",
      "Requirement already satisfied: zipp>=0.5 in c:\\users\\david\\appdata\\roaming\\python\\python36\\site-packages (from importlib-metadata>=4.8.1->gym->zhengyang_env_5) (3.6.0)\n",
      "Requirement already satisfied: typing-extensions>=3.6.4 in c:\\users\\david\\appdata\\roaming\\python\\python36\\site-packages (from importlib-metadata>=4.8.1->gym->zhengyang_env_5) (4.1.1)\n"
     ]
    }
   ],
   "source": [
    "!pip install zhengyang_env_5"
   ]
  },
  {
   "cell_type": "code",
   "execution_count": 19,
   "metadata": {},
   "outputs": [],
   "source": [
    "import gym\n",
    "import math\n",
    "import random\n",
    "import numpy as np\n",
    "import matplotlib\n",
    "import matplotlib.pyplot as plt\n",
    "from collections import namedtuple\n",
    "import collections\n",
    "from itertools import count\n",
    "import timeit\n",
    "from datetime import timedelta\n",
    "from PIL import Image\n",
    "from tensorboardX import SummaryWriter # for displaying the reward \n",
    "\n",
    "import torch\n",
    "import torch.nn as nn\n",
    "import torch.optim as optim\n",
    "import torch.nn.functional as F\n",
    "import torchvision.transforms as T\n",
    "\n",
    "\n",
    "from zhengyang_env_5.envs.zhengyang_env_5 import KukaDiverseObjectEnv\n",
    "\n",
    "\n",
    "from gym import spaces\n",
    "import pybullet as p\n",
    "\n",
    "env = KukaDiverseObjectEnv(renders=False, isDiscrete=True, removeHeightHack=False, maxSteps=20)\n",
    "env.cid = p.connect(p.DIRECT)\n",
    "\n",
    "# set up matplotlib\n",
    "is_ipython = 'inline' in matplotlib.get_backend()\n",
    "if is_ipython:\n",
    "    from IPython import display\n",
    "\n",
    "plt.ion()\n",
    "\n",
    "# if gpu is to be used\n",
    "device = torch.device(\"cuda\" if torch.cuda.is_available() else \"cpu\")"
   ]
  },
  {
   "cell_type": "code",
   "execution_count": 20,
   "metadata": {},
   "outputs": [],
   "source": [
    "Transition = namedtuple('Transition',\n",
    "                        ('state', 'action', 'next_state', 'reward'))\n",
    "\n",
    "\n",
    "class ReplayMemory(object):\n",
    "\n",
    "    def __init__(self, capacity):\n",
    "        self.capacity = capacity\n",
    "        self.memory = []\n",
    "        self.position = 0\n",
    "\n",
    "    def push(self, *args):\n",
    "        \"\"\"Saves a transition.\"\"\"\n",
    "        if len(self.memory) < self.capacity:\n",
    "            self.memory.append(None)\n",
    "        self.memory[self.position] = Transition(*args)\n",
    "        self.position = (self.position + 1) % self.capacity\n",
    "\n",
    "    def sample(self, batch_size):\n",
    "        return random.sample(self.memory, batch_size)\n",
    "\n",
    "    def __len__(self):\n",
    "        return len(self.memory)"
   ]
  },
  {
   "cell_type": "code",
   "execution_count": 6,
   "metadata": {},
   "outputs": [],
   "source": [
    "STACK_SIZE = 5"
   ]
  },
  {
   "cell_type": "code",
   "execution_count": 21,
   "metadata": {},
   "outputs": [],
   "source": [
    "class DQN(nn.Module):\n",
    "    def __init__(self, h, w, outputs):\n",
    "        super(DQN, self).__init__()  \n",
    "        self.conv1 = nn.Conv2d(STACK_SIZE, 32, kernel_size=8, stride=4)\n",
    "        self.bn1 = nn.BatchNorm2d(32)\n",
    "        self.conv2 = nn.Conv2d(32, 64, kernel_size=4, stride=2)\n",
    "        self.bn2 = nn.BatchNorm2d(64)\n",
    "        self.conv3 = nn.Conv2d(64, 64, kernel_size=3, stride=1)\n",
    "\n",
    "        # Number of Linear input connections depends on output of conv2d layers\n",
    "        # and therefore the input image size, so compute it.\n",
    "        def conv2d_size_out(size, kernel_size = 5, stride = 2):\n",
    "            return (size - (kernel_size - 1) - 1) // stride  + 1\n",
    "        convw = conv2d_size_out(conv2d_size_out(conv2d_size_out(w,8,4),4,2),3,1)\n",
    "        convh = conv2d_size_out(conv2d_size_out(conv2d_size_out(h,8,4),4,2),3,1)\n",
    "        linear_input_size = convw * convh * 64\n",
    "        self.linear = nn.Linear(linear_input_size, 512)\n",
    "        self.head = nn.Linear(512, outputs)\n",
    "\n",
    "    # Called with either one element to determine next action, or a batch\n",
    "    # during optimization. Returns tensor([[left0exp,right0exp]...]).\n",
    "    def forward(self, x):\n",
    "        x = F.relu(self.bn1(self.conv1(x)))\n",
    "        x = F.relu(self.bn2(self.conv2(x)))\n",
    "        x = F.relu(self.conv3(x))\n",
    "        x = F.relu(self.linear(x.view(x.size(0), -1)))\n",
    "        return self.head(x)"
   ]
  },
  {
   "cell_type": "code",
   "execution_count": 22,
   "metadata": {},
   "outputs": [
    {
     "data": {
      "image/png": "[encoded data removed]",
      "text/plain": [
       "<Figure size 432x288 with 1 Axes>"
      ]
     },
     "metadata": {
      "needs_background": "light"
     },
     "output_type": "display_data"
    }
   ],
   "source": [
    "preprocess = T.Compose([T.ToPILImage(),\n",
    "                    T.Grayscale(num_output_channels=1),\n",
    "                    T.Resize(40, interpolation=Image.CUBIC),\n",
    "                    T.ToTensor()])\n",
    "\n",
    "def get_screen():\n",
    "    global stacked_screens\n",
    "    # Returned screen requested by gym is 400x600x3, but is sometimes larger\n",
    "    # such as 800x1200x3. Transpose it into torch order (CHW).\n",
    "    screen = env._get_observation().transpose((2, 0, 1))\n",
    "    # Convert to float, rescale, convert to torch tensor\n",
    "    screen = np.ascontiguousarray(screen, dtype=np.float32) / 255\n",
    "    screen = torch.from_numpy(screen)\n",
    "    # Resize, and add a batch dimension \n",
    "    return preprocess(screen).unsqueeze(0).to(device)\n",
    "\n",
    "\n",
    "env.reset()\n",
    "plt.figure()\n",
    "plt.imshow(get_screen().cpu().squeeze(0)[-1].numpy(),cmap='Greys',\n",
    "           interpolation='none')\n",
    "plt.title('Example extracted screen')\n",
    "plt.show()"
   ]
  },
  {
   "cell_type": "code",
   "execution_count": 23,
   "metadata": {},
   "outputs": [],
   "source": [
    "# BATCH_SIZE is the number of transitions sampled from the replay buffer\n",
    "# GAMMA is the discount factor as mentioned in the previous section\n",
    "# EPS_START is the starting value of epsilon\n",
    "# EPS_END is the final value of epsilon\n",
    "# EPS_DECAY controls the rate of exponential decay of epsilon, higher means a slower decay\n",
    "# TAU is the update rate of the target network\n",
    "# LR is the learning rate of the ``AdamW`` optimizer\n",
    "BATCH_SIZE = 32\n",
    "GAMMA = 0.99\n",
    "EPS_START = 0.9\n",
    "EPS_END = 0.1\n",
    "EPS_DECAY = 200\n",
    "EPS_DECAY_LAST_FRAME = 10**4\n",
    "TARGET_UPDATE = 1000\n",
    "LEARNING_RATE = 1e-4\n",
    "\n",
    "# Get screen size so that we can initialize layers correctly based on shape\n",
    "# returned from pybullet (48, 48, 3).  \n",
    "init_screen = get_screen()\n",
    "_, _, screen_height, screen_width = init_screen.shape\n",
    "\n",
    "# Get number of actions from gym action space\n",
    "n_actions = env.action_space.n\n",
    "\n",
    "policy_net = DQN(screen_height, screen_width, n_actions).to(device)\n",
    "target_net = DQN(screen_height, screen_width, n_actions).to(device)\n",
    "target_net.load_state_dict(policy_net.state_dict())\n",
    "target_net.eval()\n",
    "\n",
    "optimizer = optim.Adam(policy_net.parameters(), lr=LEARNING_RATE)\n",
    "memory = ReplayMemory(10000)\n",
    "\n",
    "\n",
    "eps_threshold = 0\n",
    "\n",
    "def select_action(state, i_episode):\n",
    "    global steps_done\n",
    "    global eps_threshold\n",
    "    sample = random.random()\n",
    "    eps_threshold = max(EPS_END, EPS_START - i_episode / EPS_DECAY_LAST_FRAME)\n",
    "    if sample > eps_threshold:\n",
    "        with torch.no_grad():\n",
    "            return policy_net(state).max(1)[1].view(1, 1)\n",
    "    else:\n",
    "        return torch.tensor([[random.randrange(n_actions)]], device=device, dtype=torch.long)"
   ]
  },
  {
   "cell_type": "code",
   "execution_count": 24,
   "metadata": {},
   "outputs": [],
   "source": [
    "def optimize_model():\n",
    "    if len(memory) < BATCH_SIZE:\n",
    "        return\n",
    "    transitions = memory.sample(BATCH_SIZE)\n",
    "\n",
    "    batch = Transition(*zip(*transitions))\n",
    "\n",
    "    non_final_mask = torch.tensor(tuple(map(lambda s: s is not None,\n",
    "                                          batch.next_state)), device=device, dtype=torch.bool)\n",
    "    non_final_next_states = torch.cat([s for s in batch.next_state\n",
    "                                                if s is not None])\n",
    "    state_batch = torch.cat(batch.state)\n",
    "    action_batch = torch.cat(batch.action)\n",
    "    reward_batch = torch.cat(batch.reward)\n",
    "    state_action_values = policy_net(state_batch).gather(1, action_batch)\n",
    "    next_state_values = torch.zeros(BATCH_SIZE, device=device)\n",
    "    next_state_values[non_final_mask] = target_net(non_final_next_states).max(1)[0].detach()\n",
    "    # Compute the expected Q values\n",
    "    expected_state_action_values = (next_state_values * GAMMA) + reward_batch\n",
    "    # Compute Huber loss\n",
    "    loss = F.smooth_l1_loss(state_action_values, expected_state_action_values.unsqueeze(1))\n",
    "\n",
    "    # Optimize the model\n",
    "    optimizer.zero_grad()\n",
    "    loss.backward()\n",
    "    for param in policy_net.parameters():\n",
    "        param.grad.data.clamp_(-1, 1)\n",
    "    optimizer.step()"
   ]
  },
  {
   "cell_type": "code",
   "execution_count": 25,
   "metadata": {},
   "outputs": [],
   "source": [
    "PATH = 'policy_dqn.pt'"
   ]
  },
  {
   "cell_type": "code",
   "execution_count": 26,
   "metadata": {},
   "outputs": [
    {
     "name": "stdout",
     "output_type": "stream",
     "text": [
      "Best mean reward updated 28.0 -> 29.0, model saved\n",
      "Best mean reward updated 29.0 -> 30.0, model saved\n",
      "Best mean reward updated 30.0 -> 31.0, model saved\n",
      "Best mean reward updated 31.0 -> 32.0, model saved\n",
      "Best mean reward updated 32.0 -> 33.0, model saved\n",
      "Best mean reward updated 33.0 -> 34.0, model saved\n",
      "Best mean reward updated 34.0 -> 35.0, model saved\n",
      "Best mean reward updated 35.0 -> 36.0, model saved\n",
      "Best mean reward updated 36.0 -> 37.0, model saved\n",
      "Best mean reward updated 37.0 -> 38.0, model saved\n",
      "Best mean reward updated 38.0 -> 39.0, model saved\n",
      "Best mean reward updated 39.0 -> 40.0, model saved\n",
      "Best mean reward updated 40.0 -> 41.0, model saved\n",
      "Best mean reward updated 41.0 -> 42.0, model saved\n",
      "Best mean reward updated 42.0 -> 43.0, model saved\n",
      "Best mean reward updated 43.0 -> 44.0, model saved\n",
      "Best mean reward updated 44.0 -> 45.0, model saved\n",
      "Best mean reward updated 45.0 -> 46.0, model saved\n",
      "Best mean reward updated 46.0 -> 47.0, model saved\n",
      "Best mean reward updated 47.0 -> 48.0, model saved\n",
      "Best mean reward updated 48.0 -> 49.0, model saved\n",
      "Best mean reward updated 49.0 -> 50.0, model saved\n",
      "Best mean reward updated 50.0 -> 51.0, model saved\n",
      "Environment solved in 7093 episodes!\tAverage Score: 51.00\n",
      "Average Score: 51.00\n",
      "Elapsed time: 8:37:34.525958\n"
     ]
    }
   ],
   "source": [
    "num_episodes = 10000\n",
    "writer = SummaryWriter()\n",
    "total_rewards = []\n",
    "ten_rewards = 0\n",
    "best_mean_reward = None\n",
    "start_time = timeit.default_timer()\n",
    "success_rate_history = []\n",
    "# Add this line before the training loop\n",
    "episode_rewards = []\n",
    "success_rates = []  # Add this line before the training loop\n",
    "n = 100  # Choose a value for n\n",
    "for i_episode in range(num_episodes):\n",
    "    # Initialize the environment and state\n",
    "    env.reset()\n",
    "    state = get_screen()\n",
    "    stacked_states = collections.deque(STACK_SIZE*[state],maxlen=STACK_SIZE)\n",
    "    for t in count():\n",
    "        stacked_states_t =  torch.cat(tuple(stacked_states),dim=1)\n",
    "        # Select and perform an action\n",
    "        action = select_action(stacked_states_t, i_episode)\n",
    "        _, reward, done, _ = env.step(action.item())\n",
    "        reward = torch.tensor([reward], device=device)\n",
    "\n",
    "        # Observe new state\n",
    "        next_state = get_screen()\n",
    "        if not done:\n",
    "            next_stacked_states = stacked_states\n",
    "            next_stacked_states.append(next_state)\n",
    "            next_stacked_states_t =  torch.cat(tuple(next_stacked_states),dim=1)\n",
    "        else:\n",
    "            next_stacked_states_t = None\n",
    "            \n",
    "        # Store the transition in memory\n",
    "        memory.push(stacked_states_t, action, next_stacked_states_t, reward)\n",
    "\n",
    "        # Move to the next state\n",
    "        stacked_states = next_stacked_states\n",
    "        \n",
    "        # Perform one step of the optimization (on the target network)\n",
    "        optimize_model()\n",
    "        if done:\n",
    "            reward = reward.cpu().numpy().item()\n",
    "            ten_rewards += reward\n",
    "            total_rewards.append(reward)\n",
    "            mean_reward = np.mean(total_rewards[-100:])*100\n",
    "            writer.add_scalar(\"epsilon\", eps_threshold, i_episode)\n",
    "            if (best_mean_reward is None or best_mean_reward < mean_reward) and i_episode > 100:\n",
    "                # For saving the model and possibly resuming training\n",
    "                torch.save({\n",
    "                        'policy_net_state_dict': policy_net.state_dict(),\n",
    "                        'target_net_state_dict': target_net.state_dict(),\n",
    "                        'optimizer_policy_net_state_dict': optimizer.state_dict()\n",
    "                        }, PATH)\n",
    "                if best_mean_reward is not None:\n",
    "                    print(\"Best mean reward updated %.1f -> %.1f, model saved\" % (best_mean_reward, mean_reward))\n",
    "                best_mean_reward = mean_reward\n",
    "            episode_rewards.append(reward)\n",
    "            break\n",
    "            \n",
    "    if i_episode%10 == 0:\n",
    "            writer.add_scalar('ten episodes average rewards', ten_rewards/10.0, i_episode)\n",
    "            ten_rewards = 0\n",
    "# Add this code block inside your training loop\n",
    "    if (i_episode + 1) % n == 0:\n",
    "            successful_episodes = sum([1 for reward in total_rewards[-n:] if reward > 0])\n",
    "            success_rate = (successful_episodes / n) * 100\n",
    "            success_rates.append(success_rate)\n",
    "            writer.add_scalar('success rate', success_rate, i_episode)        \n",
    "    # Update the target network, copying all weights and biases in DQN\n",
    "    if i_episode % TARGET_UPDATE == 0:\n",
    "        target_net.load_state_dict(policy_net.state_dict())\n",
    "    if i_episode>=200 and mean_reward>50:\n",
    "        print('Environment solved in {:d} episodes!\\tAverage Score: {:.2f}'.format(i_episode+1, mean_reward))\n",
    "        break\n",
    "\n",
    "\n",
    "print('Average Score: {:.2f}'.format(mean_reward))\n",
    "elapsed = timeit.default_timer() - start_time\n",
    "print(\"Elapsed time: {}\".format(timedelta(seconds=elapsed)))\n",
    "writer.close()\n",
    "env.close()"
   ]
  },
  {
   "cell_type": "code",
   "execution_count": 27,
   "metadata": {},
   "outputs": [
    {
     "data": {
      "image/png": "[encoded data removed]",
      "text/plain": [
       "<Figure size 432x288 with 1 Axes>"
      ]
     },
     "metadata": {
      "needs_background": "light"
     },
     "output_type": "display_data"
    }
   ],
   "source": [
    "import numpy as np\n",
    "import matplotlib.pyplot as plt\n",
    "\n",
    "# Calculate the rolling average of rewards\n",
    "rolling_avg_window = 100\n",
    "rolling_avg_rewards = np.convolve(episode_rewards, np.ones(rolling_avg_window) / rolling_avg_window, mode='valid')\n",
    "\n",
    "# Create a plot for the rolling average of rewards\n",
    "episodes = list(range(1, len(episode_rewards) - rolling_avg_window + 2))\n",
    "plt.plot(episodes, rolling_avg_rewards, color='blue')\n",
    "\n",
    "# Add labels and title\n",
    "plt.xlabel('Episode')\n",
    "plt.ylabel('Rolling Average Reward')\n",
    "plt.title('Rolling Average Reward over {} Episodes'.format(rolling_avg_window))\n",
    "\n",
    "# Display the plot\n",
    "plt.show()"
   ]
  },
  {
   "cell_type": "code",
   "execution_count": 28,
   "metadata": {},
   "outputs": [
    {
     "data": {
      "image/png": "[encoded data removed]",
      "text/plain": [
       "<Figure size 432x288 with 1 Axes>"
      ]
     },
     "metadata": {
      "needs_background": "light"
     },
     "output_type": "display_data"
    }
   ],
   "source": [
    "import matplotlib.pyplot as plt\n",
    "\n",
    "# Create a line plot for the success rate\n",
    "episode_windows = [n * (i + 1) for i in range(len(success_rates))]\n",
    "plt.plot(episode_windows, success_rates, color='blue')\n",
    "\n",
    "# Add labels and title\n",
    "plt.xlabel('Episode')\n",
    "plt.ylabel('Success Rate (%)')\n",
    "plt.title('Success Rate Over Training Episodes')\n",
    "\n",
    "# Display the plot\n",
    "plt.show()"
   ]
  },
  {
   "cell_type": "code",
   "execution_count": 15,
   "metadata": {},
   "outputs": [
    {
     "data": {
      "image/png": "[encoded data removed]",
      "text/plain": [
       "<Figure size 432x288 with 1 Axes>"
      ]
     },
     "metadata": {
      "needs_background": "light"
     },
     "output_type": "display_data"
    }
   ],
   "source": [
    "episode = 100\n",
    "successful_episodes = 0\n",
    "scores_window = collections.deque(maxlen=100)  # last 100 scores\n",
    "env = KukaDiverseObjectEnv(renders=False, isDiscrete=True, removeHeightHack=False, maxSteps=20, isTest=True)\n",
    "env.cid = p.connect(p.DIRECT)\n",
    "# load the model\n",
    "checkpoint = torch.load(PATH)\n",
    "policy_net.load_state_dict(checkpoint['policy_net_state_dict'])\n",
    "evaluation_rewards = []\n",
    "# evaluate the model\n",
    "for i_episode in range(episode):\n",
    "    env.reset()\n",
    "    state = get_screen()\n",
    "    stacked_states = collections.deque(STACK_SIZE*[state],maxlen=STACK_SIZE)\n",
    "    for t in count():\n",
    "        stacked_states_t =  torch.cat(tuple(stacked_states),dim=1)\n",
    "        # Select and perform an action\n",
    "        action = policy_net(stacked_states_t).max(1)[1].view(1, 1)\n",
    "        _, reward, done, _ = env.step(action.item())\n",
    "        # Observe new state\n",
    "        next_state = get_screen()\n",
    "        stacked_states.append(next_state)\n",
    "        if done:\n",
    "            evaluation_rewards.append(reward)\n",
    "            if reward > 0:\n",
    "                successful_episodes += 1\n",
    "            break\n",
    "    #print(\"Episode: {0:d}, reward: {1}\".format(i_episode+1, reward), end=\"\\n\")\n",
    "\n",
    "success_rate = successful_episodes / episode * 100\n",
    "#print(f\"Success rate for all {episode} episodes: {success_rate}%\")\n",
    "\n",
    "percentage_window = 10\n",
    "successful_episodes_percentages = []\n",
    "\n",
    "for i in range(0, len(evaluation_rewards), percentage_window):\n",
    "    successful_episodes_in_window = sum([1 for reward in evaluation_rewards[i:i + percentage_window] if reward > 0])\n",
    "    successful_percentage = (successful_episodes_in_window / percentage_window) * 100\n",
    "    successful_episodes_percentages.append(successful_percentage)\n",
    "\n",
    "import matplotlib.pyplot as plt\n",
    "\n",
    "# Create a bar plot for the percentage of successful episodes\n",
    "windows = list(range(1, len(successful_episodes_percentages) + 1))\n",
    "plt.bar(windows, successful_episodes_percentages, color='blue')\n",
    "\n",
    "# Add labels and title\n",
    "plt.xlabel('Window of 10 Episodes')\n",
    "plt.ylabel('Percentage of Successful Episodes')\n",
    "plt.title('Percentage of Successful Episodes for Every 10 Episodes')\n",
    "\n",
    "# Display the plot\n",
    "plt.show()"
   ]
  }
 ],
 "metadata": {
  "kernelspec": {
   "display_name": "myenv",
   "language": "python",
   "name": "python3"
  },
  "language_info": {
   "codemirror_mode": {
    "name": "ipython",
    "version": 3
   },
   "file_extension": ".py",
   "mimetype": "text/x-python",
   "name": "python",
   "nbconvert_exporter": "python",
   "pygments_lexer": "ipython3",
   "version": "3.6.15"
  },
  "orig_nbformat": 4
 },
 "nbformat": 4,
 "nbformat_minor": 2
}
