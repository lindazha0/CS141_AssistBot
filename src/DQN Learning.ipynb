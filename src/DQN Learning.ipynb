{
 "cells": [
  {
   "attachments": {},
   "cell_type": "markdown",
   "metadata": {},
   "source": [
    "# Code for the DQN learning algorithm using PyBullet Gym environment\n"
   ]
  },
  {
   "attachments": {},
   "cell_type": "markdown",
   "metadata": {},
   "source": [
    "This note book mainly contains the code for the DQN learning algorithm using PyBullet Gym environment. The code is based on the [PyTorch DQN tutorial](https://pytorch.org/tutorials/intermediate/reinforcement_q_learning.html) and the post [OpeAI Gym Environments with Pybullet](https://www.etedal.net/2020/04/pybullet-panda_2.html)"
   ]
  },
  {
   "cell_type": "code",
   "execution_count": 1,
   "metadata": {},
   "outputs": [
    {
     "name": "stdout",
     "output_type": "stream",
     "text": [
      "Requirement already satisfied: tensorboardX in c:\\users\\david\\anaconda3\\envs\\myenv\\lib\\site-packages (2.6)\n",
      "Requirement already satisfied: packaging in c:\\users\\david\\anaconda3\\envs\\myenv\\lib\\site-packages (from tensorboardX) (21.3)\n",
      "Requirement already satisfied: numpy in c:\\users\\david\\anaconda3\\envs\\myenv\\lib\\site-packages (from tensorboardX) (1.19.5)\n",
      "Requirement already satisfied: protobuf<4,>=3.8.0 in c:\\users\\david\\anaconda3\\envs\\myenv\\lib\\site-packages (from tensorboardX) (3.19.6)\n",
      "Requirement already satisfied: pyparsing!=3.0.5,>=2.0.2 in c:\\users\\david\\anaconda3\\envs\\myenv\\lib\\site-packages (from packaging->tensorboardX) (3.0.9)\n"
     ]
    }
   ],
   "source": [
    "!pip install tensorboardX"
   ]
  },
  {
   "cell_type": "code",
   "execution_count": 1,
   "metadata": {},
   "outputs": [
    {
     "data": {
      "text/plain": [
       "True"
      ]
     },
     "execution_count": 1,
     "metadata": {},
     "output_type": "execute_result"
    }
   ],
   "source": [
    "# Check if GPU is available\n",
    "import torch \n",
    "torch.cuda.is_available()"
   ]
  },
  {
   "cell_type": "code",
   "execution_count": 2,
   "metadata": {},
   "outputs": [
    {
     "name": "stdout",
     "output_type": "stream",
     "text": [
      "Requirement already satisfied: zhengyang-env-2 in c:\\users\\david\\anaconda3\\envs\\myenv\\lib\\site-packages (0.0.2)\n",
      "Requirement already satisfied: pybullet in c:\\users\\david\\anaconda3\\envs\\myenv\\lib\\site-packages (from zhengyang-env-2) (3.2.5)\n",
      "Requirement already satisfied: gym in c:\\users\\david\\anaconda3\\envs\\myenv\\lib\\site-packages (from zhengyang-env-2) (0.21.0)\n",
      "Requirement already satisfied: importlib-metadata>=4.8.1 in c:\\users\\david\\appdata\\roaming\\python\\python36\\site-packages (from gym->zhengyang-env-2) (4.8.3)\n",
      "Requirement already satisfied: cloudpickle>=1.2.0 in c:\\users\\david\\anaconda3\\envs\\myenv\\lib\\site-packages (from gym->zhengyang-env-2) (2.2.1)\n",
      "Requirement already satisfied: numpy>=1.18.0 in c:\\users\\david\\anaconda3\\envs\\myenv\\lib\\site-packages (from gym->zhengyang-env-2) (1.19.5)\n",
      "Requirement already satisfied: zipp>=0.5 in c:\\users\\david\\appdata\\roaming\\python\\python36\\site-packages (from importlib-metadata>=4.8.1->gym->zhengyang-env-2) (3.6.0)\n",
      "Requirement already satisfied: typing-extensions>=3.6.4 in c:\\users\\david\\appdata\\roaming\\python\\python36\\site-packages (from importlib-metadata>=4.8.1->gym->zhengyang-env-2) (4.1.1)\n"
     ]
    }
   ],
   "source": [
    "# Install the environment, we also try zhegnyang-env-5, where we altered the environment parameter\n",
    "!pip install zhengyang-env-2\n",
    "#!pip install zhengyang-env-2"
   ]
  },
  {
   "attachments": {},
   "cell_type": "markdown",
   "metadata": {},
   "source": [
    "# Section 1: Import the Necessary Packages"
   ]
  },
  {
   "cell_type": "code",
   "execution_count": 3,
   "metadata": {},
   "outputs": [
    {
     "name": "stdout",
     "output_type": "stream",
     "text": [
      "current_dir=c:\\Users\\David\\anaconda3\\envs\\myenv\\lib\\site-packages\\pybullet_envs\\bullet\n"
     ]
    }
   ],
   "source": [
    "import gym\n",
    "import math\n",
    "import random\n",
    "import numpy as np\n",
    "import matplotlib\n",
    "import matplotlib.pyplot as plt\n",
    "from collections import namedtuple\n",
    "import collections\n",
    "from itertools import count\n",
    "import timeit\n",
    "from datetime import timedelta\n",
    "from PIL import Image\n",
    "from tensorboardX import SummaryWriter # for displaying the reward \n",
    "import torch\n",
    "import torch.nn as nn\n",
    "import torch.optim as optim\n",
    "import torch.nn.functional as F\n",
    "import torchvision.transforms as T\n",
    "\n",
    "# simply change the environment name to zhengyang_env_5 if we want to use the altered environment \n",
    "from zhengyang_env_2.envs.zhengyang_env_2 import KukaDiverseObjectEnv\n",
    "from gym import spaces\n",
    "import pybullet as p\n",
    "\n",
    "env = KukaDiverseObjectEnv(renders=False, isDiscrete=True, removeHeightHack=False, maxSteps=20)\n",
    "env.cid = p.connect(p.DIRECT)\n",
    "\n",
    "# set up matplotlib\n",
    "is_ipython = 'inline' in matplotlib.get_backend()\n",
    "if is_ipython:\n",
    "    from IPython import display\n",
    "\n",
    "plt.ion()\n",
    "\n",
    "device = torch.device(\"cuda\" if torch.cuda.is_available() else \"cpu\")"
   ]
  },
  {
   "attachments": {},
   "cell_type": "markdown",
   "metadata": {},
   "source": [
    "# Section 2: Setting Up Replay Memory for Training our DQN"
   ]
  },
  {
   "cell_type": "code",
   "execution_count": 4,
   "metadata": {},
   "outputs": [],
   "source": [
    "Transition = namedtuple('Transition',\n",
    "                        ('state', 'action', 'next_state', 'reward'))\n",
    "\n",
    "\n",
    "class ReplayMemory(object):\n",
    "\n",
    "    def __init__(self, capacity):\n",
    "        self.capacity = capacity\n",
    "        self.memory = []\n",
    "        self.position = 0\n",
    "\n",
    "    def push(self, *args):\n",
    "        \"\"\"Saves a transition.\"\"\"\n",
    "        if len(self.memory) < self.capacity:\n",
    "            self.memory.append(None)\n",
    "        self.memory[self.position] = Transition(*args)\n",
    "        self.position = (self.position + 1) % self.capacity\n",
    "\n",
    "    def sample(self, batch_size):\n",
    "        return random.sample(self.memory, batch_size)\n",
    "\n",
    "    def __len__(self):\n",
    "        return len(self.memory)"
   ]
  },
  {
   "attachments": {},
   "cell_type": "markdown",
   "metadata": {},
   "source": [
    "# Section 3: DQN algorithm for training the agent"
   ]
  },
  {
   "cell_type": "code",
   "execution_count": 5,
   "metadata": {},
   "outputs": [],
   "source": [
    "STACK_SIZE = 5"
   ]
  },
  {
   "cell_type": "code",
   "execution_count": 6,
   "metadata": {},
   "outputs": [],
   "source": [
    "class DQN(nn.Module):\n",
    "    def __init__(self, h, w, outputs):\n",
    "        super(DQN, self).__init__()  \n",
    "        self.conv1 = nn.Conv2d(STACK_SIZE, 32, kernel_size=8, stride=4)\n",
    "        self.bn1 = nn.BatchNorm2d(32)\n",
    "        self.conv2 = nn.Conv2d(32, 64, kernel_size=4, stride=2)\n",
    "        self.bn2 = nn.BatchNorm2d(64)\n",
    "        self.conv3 = nn.Conv2d(64, 64, kernel_size=3, stride=1)\n",
    "        def conv2d_size_out(size, kernel_size = 5, stride = 2):\n",
    "            return (size - (kernel_size - 1) - 1) // stride  + 1\n",
    "        convw = conv2d_size_out(conv2d_size_out(conv2d_size_out(w,8,4),4,2),3,1)\n",
    "        convh = conv2d_size_out(conv2d_size_out(conv2d_size_out(h,8,4),4,2),3,1)\n",
    "        linear_input_size = convw * convh * 64\n",
    "        self.linear = nn.Linear(linear_input_size, 512)\n",
    "        self.head = nn.Linear(512, outputs)\n",
    "    def forward(self, x):\n",
    "        x = F.relu(self.bn1(self.conv1(x)))\n",
    "        x = F.relu(self.bn2(self.conv2(x)))\n",
    "        x = F.relu(self.conv3(x))\n",
    "        x = F.relu(self.linear(x.view(x.size(0), -1)))\n",
    "        return self.head(x)"
   ]
  },
  {
   "attachments": {},
   "cell_type": "markdown",
   "metadata": {},
   "source": [
    "# Section 4: Show an Example Extrated Screen "
   ]
  },
  {
   "cell_type": "code",
   "execution_count": 7,
   "metadata": {},
   "outputs": [
    {
     "data": {
      "image/png": "[encoded data removed]",
      "text/plain": [
       "<Figure size 432x288 with 1 Axes>"
      ]
     },
     "metadata": {
      "needs_background": "light"
     },
     "output_type": "display_data"
    }
   ],
   "source": [
    "preprocess = T.Compose([T.ToPILImage(),\n",
    "                    T.Grayscale(num_output_channels=1),\n",
    "                    T.Resize(40, interpolation=Image.CUBIC),\n",
    "                    T.ToTensor()])\n",
    "\n",
    "def get_screen():\n",
    "    global stacked_screens\n",
    "    # Returned screen requested by gym is 400x600x3\n",
    "    screen = env._get_observation().transpose((2, 0, 1))\n",
    "    # Convert to float, rescale, convert to torch tensor\n",
    "    screen = np.ascontiguousarray(screen, dtype=np.float32) / 255\n",
    "    screen = torch.from_numpy(screen)\n",
    "    return preprocess(screen).unsqueeze(0).to(device)\n",
    "\n",
    "\n",
    "env.reset()\n",
    "plt.figure()\n",
    "plt.imshow(get_screen().cpu().squeeze(0)[-1].numpy(),cmap='Greys',\n",
    "           interpolation='none')\n",
    "plt.title('Example extracted screen')\n",
    "plt.show()"
   ]
  },
  {
   "attachments": {},
   "cell_type": "markdown",
   "metadata": {},
   "source": [
    "# Section 5: Training "
   ]
  },
  {
   "cell_type": "code",
   "execution_count": 8,
   "metadata": {},
   "outputs": [],
   "source": [
    "# BATCH_SIZE is the number of transitions sampled from the replay buffer\n",
    "# GAMMA is the discount factor as mentioned in the previous section\n",
    "# EPS_START is the starting value of epsilon\n",
    "# EPS_END is the final value of epsilon\n",
    "# EPS_DECAY controls the rate of exponential decay of epsilon, higher means a slower decay\n",
    "# TAU is the update rate of the target network\n",
    "# LR is the learning rate of the ``AdamW`` optimizer\n",
    "BATCH_SIZE = 32\n",
    "GAMMA = 0.99\n",
    "EPS_START = 0.9\n",
    "EPS_END = 0.1\n",
    "EPS_DECAY = 200\n",
    "EPS_DECAY_LAST_FRAME = 10**4\n",
    "TARGET_UPDATE = 1000\n",
    "LEARNING_RATE = 1e-4\n",
    "\n",
    "# Get screen size so that we can initialize layers correctly based on shape\n",
    "# returned from pybullet (48, 48, 3).  \n",
    "init_screen = get_screen()\n",
    "_, _, screen_height, screen_width = init_screen.shape\n",
    "n_actions = env.action_space.n\n",
    "# print(n_actions)\n",
    "policy_net = DQN(screen_height, screen_width, n_actions).to(device)\n",
    "target_net = DQN(screen_height, screen_width, n_actions).to(device)\n",
    "target_net.load_state_dict(policy_net.state_dict())\n",
    "target_net.eval()\n",
    "# optimizer = optim.RMSprop(policy_net.parameters())\n",
    "optimizer = optim.Adam(policy_net.parameters(), lr=LEARNING_RATE)\n",
    "memory = ReplayMemory(10000)\n",
    "\n",
    "\n",
    "eps_threshold = 0\n",
    "# function to select an action. It selects a random action \n",
    "def select_action(state, i_episode):\n",
    "    global steps_done\n",
    "    global eps_threshold\n",
    "    sample = random.random()\n",
    "    eps_threshold = max(EPS_END, EPS_START - i_episode / EPS_DECAY_LAST_FRAME)\n",
    "    if sample > eps_threshold:\n",
    "        with torch.no_grad():\n",
    "            return policy_net(state).max(1)[1].view(1, 1)\n",
    "    else:\n",
    "        return torch.tensor([[random.randrange(n_actions)]], device=device, dtype=torch.long)"
   ]
  },
  {
   "attachments": {},
   "cell_type": "markdown",
   "metadata": {},
   "source": [
    "# Section 6: Training Loop"
   ]
  },
  {
   "cell_type": "code",
   "execution_count": 11,
   "metadata": {},
   "outputs": [],
   "source": [
    "def optimize_model():\n",
    "    if len(memory) < BATCH_SIZE:\n",
    "        return\n",
    "    transitions = memory.sample(BATCH_SIZE)\n",
    "\n",
    "    batch = Transition(*zip(*transitions))\n",
    "\n",
    "    # Compute a mask of non-final states and concatenate the batch elements\n",
    "    non_final_mask = torch.tensor(tuple(map(lambda s: s is not None,\n",
    "                                          batch.next_state)), device=device, dtype=torch.bool)\n",
    "    non_final_next_states = torch.cat([s for s in batch.next_state\n",
    "                                                if s is not None])\n",
    "    state_batch = torch.cat(batch.state)\n",
    "    action_batch = torch.cat(batch.action)\n",
    "    reward_batch = torch.cat(batch.reward)\n",
    "\n",
    "    # Compute Q(s_t, a) - the model computes Q(s_t)\n",
    "    state_action_values = policy_net(state_batch).gather(1, action_batch)\n",
    "\n",
    "    # Compute V(s_{t+1}) for all next states.\n",
    "    next_state_values = torch.zeros(BATCH_SIZE, device=device)\n",
    "    next_state_values[non_final_mask] = target_net(non_final_next_states).max(1)[0].detach()\n",
    "    # Compute the expected Q values\n",
    "    expected_state_action_values = (next_state_values * GAMMA) + reward_batch\n",
    "\n",
    "    # Compute Huber loss\n",
    "    loss = F.smooth_l1_loss(state_action_values, expected_state_action_values.unsqueeze(1))\n",
    "\n",
    "    # Optimize the model\n",
    "    optimizer.zero_grad()\n",
    "    loss.backward()\n",
    "    for param in policy_net.parameters():\n",
    "        param.grad.data.clamp_(-1, 1)\n",
    "    optimizer.step()"
   ]
  },
  {
   "cell_type": "code",
   "execution_count": 12,
   "metadata": {},
   "outputs": [],
   "source": [
    "PATH = 'policy_dqn.pt'"
   ]
  },
  {
   "cell_type": "code",
   "execution_count": 13,
   "metadata": {},
   "outputs": [
    {
     "name": "stdout",
     "output_type": "stream",
     "text": [
      "Best mean reward updated 31.0 -> 32.0, model saved\n",
      "Best mean reward updated 32.0 -> 33.0, model saved\n",
      "Best mean reward updated 33.0 -> 34.0, model saved\n",
      "Best mean reward updated 34.0 -> 35.0, model saved\n",
      "Best mean reward updated 35.0 -> 36.0, model saved\n",
      "Best mean reward updated 36.0 -> 37.0, model saved\n",
      "Best mean reward updated 37.0 -> 38.0, model saved\n",
      "Best mean reward updated 38.0 -> 39.0, model saved\n",
      "Best mean reward updated 39.0 -> 40.0, model saved\n",
      "Best mean reward updated 40.0 -> 41.0, model saved\n",
      "Best mean reward updated 41.0 -> 42.0, model saved\n",
      "Best mean reward updated 42.0 -> 43.0, model saved\n",
      "Best mean reward updated 43.0 -> 44.0, model saved\n",
      "Best mean reward updated 44.0 -> 45.0, model saved\n",
      "Best mean reward updated 45.0 -> 46.0, model saved\n",
      "Best mean reward updated 46.0 -> 47.0, model saved\n",
      "Best mean reward updated 47.0 -> 48.0, model saved\n",
      "Best mean reward updated 48.0 -> 49.0, model saved\n",
      "Best mean reward updated 49.0 -> 50.0, model saved\n",
      "Best mean reward updated 50.0 -> 51.0, model saved\n",
      "Environment solved in 9412 episodes!\tAverage Score: 51.00\n",
      "Average Score: 51.00\n",
      "Elapsed time: 3:42:46.369097\n"
     ]
    }
   ],
   "source": [
    "# we start with defining the number of episodes that we want to train our agent for. \n",
    "# We also have default list like episode_rewards for storing the rewards obtained in each episode.  \n",
    "num_episodes = 10000\n",
    "writer = SummaryWriter()\n",
    "total_rewards = []\n",
    "ten_rewards = 0\n",
    "best_mean_reward = None\n",
    "start_time = timeit.default_timer()\n",
    "success_rate_history = []\n",
    "episode_rewards = []\n",
    "\n",
    "for i_episode in range(num_episodes):\n",
    "    # Initialize the environment and state\n",
    "    env.reset()\n",
    "    state = get_screen()\n",
    "    stacked_states = collections.deque(STACK_SIZE*[state],maxlen=STACK_SIZE)\n",
    "    for t in count():\n",
    "        stacked_states_t =  torch.cat(tuple(stacked_states),dim=1)\n",
    "        # Select and perform an action\n",
    "        action = select_action(stacked_states_t, i_episode)\n",
    "        _, reward, done, _ = env.step(action.item())\n",
    "        reward = torch.tensor([reward], device=device)\n",
    "\n",
    "        # Observe new state\n",
    "        next_state = get_screen()\n",
    "        if not done:\n",
    "            next_stacked_states = stacked_states\n",
    "            next_stacked_states.append(next_state)\n",
    "            next_stacked_states_t =  torch.cat(tuple(next_stacked_states),dim=1)\n",
    "        else:\n",
    "            next_stacked_states_t = None\n",
    "            \n",
    "        # Store the transition in memory\n",
    "        memory.push(stacked_states_t, action, next_stacked_states_t, reward)\n",
    "\n",
    "        # Move to the next state\n",
    "        stacked_states = next_stacked_states\n",
    "        \n",
    "        # Perform one step of the optimization (on the target network)\n",
    "        optimize_model()\n",
    "        if done:\n",
    "            reward = reward.cpu().numpy().item()\n",
    "            ten_rewards += reward\n",
    "            total_rewards.append(reward)\n",
    "            mean_reward = np.mean(total_rewards[-100:])*100\n",
    "            writer.add_scalar(\"epsilon\", eps_threshold, i_episode)\n",
    "            if (best_mean_reward is None or best_mean_reward < mean_reward) and i_episode > 100:\n",
    "                # For saving the model and possibly resuming training\n",
    "                torch.save({\n",
    "                        'policy_net_state_dict': policy_net.state_dict(),\n",
    "                        'target_net_state_dict': target_net.state_dict(),\n",
    "                        'optimizer_policy_net_state_dict': optimizer.state_dict()\n",
    "                        }, PATH)\n",
    "                if best_mean_reward is not None:\n",
    "                    print(\"Best mean reward updated %.1f -> %.1f, model saved\" % (best_mean_reward, mean_reward))\n",
    "                best_mean_reward = mean_reward\n",
    "            episode_rewards.append(reward)\n",
    "            break\n",
    "            \n",
    "    if i_episode%10 == 0:\n",
    "            writer.add_scalar('ten episodes average rewards', ten_rewards/10.0, i_episode)\n",
    "            ten_rewards = 0\n",
    "    \n",
    "    # Update the target network, copying all weights and biases in DQN\n",
    "    if i_episode % TARGET_UPDATE == 0:\n",
    "        target_net.load_state_dict(policy_net.state_dict())\n",
    "    if i_episode>=200 and mean_reward>50:\n",
    "        print('Environment solved in {:d} episodes!\\tAverage Score: {:.2f}'.format(i_episode+1, mean_reward))\n",
    "        break\n",
    "\n",
    "\n",
    "print('Average Score: {:.2f}'.format(mean_reward))\n",
    "elapsed = timeit.default_timer() - start_time\n",
    "print(\"Elapsed time: {}\".format(timedelta(seconds=elapsed)))\n",
    "writer.close()\n",
    "env.close()"
   ]
  },
  {
   "attachments": {},
   "cell_type": "markdown",
   "metadata": {},
   "source": [
    "# Section 7: Evaluation on our model "
   ]
  },
  {
   "cell_type": "code",
   "execution_count": 14,
   "metadata": {},
   "outputs": [
    {
     "data": {
      "image/png": "[encoded data removed]",
      "text/plain": [
       "<Figure size 432x288 with 1 Axes>"
      ]
     },
     "metadata": {
      "needs_background": "light"
     },
     "output_type": "display_data"
    }
   ],
   "source": [
    "import numpy as np\n",
    "import matplotlib.pyplot as plt\n",
    "\n",
    "# Calculate the rolling average of rewards\n",
    "rolling_avg_window = 100\n",
    "rolling_avg_rewards = np.convolve(episode_rewards, np.ones(rolling_avg_window) / rolling_avg_window, mode='valid')\n",
    "\n",
    "# Create a plot for the rolling average of rewards\n",
    "episodes = list(range(1, len(episode_rewards) - rolling_avg_window + 2))\n",
    "plt.plot(episodes, rolling_avg_rewards, color='blue')\n",
    "\n",
    "# Add labels and title\n",
    "plt.xlabel('Episode')\n",
    "plt.ylabel('Rolling Average Reward')\n",
    "plt.title('Rolling Average Reward over {} Episodes'.format(rolling_avg_window))\n",
    "\n",
    "# Display the plot\n",
    "plt.show()"
   ]
  },
  {
   "attachments": {},
   "cell_type": "markdown",
   "metadata": {},
   "source": [
    "# Section 8: Extra information on model evaluation. \n",
    "Please not that the following code are for testing, and are not shown/covered in our report"
   ]
  },
  {
   "cell_type": "code",
   "execution_count": 29,
   "metadata": {},
   "outputs": [],
   "source": [
    "episode = 100\n",
    "successful_episodes = 0\n",
    "scores_window = collections.deque(maxlen=100)  # last 100 scores\n",
    "env = KukaDiverseObjectEnv(renders=False, isDiscrete=True, removeHeightHack=False, maxSteps=20, isTest=True)\n",
    "env.cid = p.connect(p.DIRECT)\n",
    "# load the model\n",
    "checkpoint = torch.load(PATH)\n",
    "policy_net.load_state_dict(checkpoint['policy_net_state_dict'])\n",
    "evaluation_rewards = []\n",
    "# evaluate the model\n",
    "for i_episode in range(episode):\n",
    "    env.reset()\n",
    "    state = get_screen()\n",
    "    stacked_states = collections.deque(STACK_SIZE*[state],maxlen=STACK_SIZE)\n",
    "    for t in count():\n",
    "        stacked_states_t =  torch.cat(tuple(stacked_states),dim=1)\n",
    "        # Select and perform an action\n",
    "        action = policy_net(stacked_states_t).max(1)[1].view(1, 1)\n",
    "        _, reward, done, _ = env.step(action.item())\n",
    "        # Observe new state\n",
    "        next_state = get_screen()\n",
    "        stacked_states.append(next_state)\n",
    "        if done:\n",
    "            evaluation_rewards.append(reward)\n",
    "            if reward > 0:\n",
    "                successful_episodes += 1\n",
    "            break\n",
    "    #print(\"Episode: {0:d}, reward: {1}\".format(i_episode+1, reward), end=\"\\n\")\n",
    "\n",
    "success_rate = successful_episodes / episode * 100\n",
    "#print(f\"Success rate for all {episode} episodes: {success_rate}%\")"
   ]
  },
  {
   "cell_type": "code",
   "execution_count": 30,
   "metadata": {},
   "outputs": [],
   "source": [
    "percentage_window = 10\n",
    "successful_episodes_percentages = []\n",
    "\n",
    "for i in range(0, len(evaluation_rewards), percentage_window):\n",
    "    successful_episodes_in_window = sum([1 for reward in evaluation_rewards[i:i + percentage_window] if reward > 0])\n",
    "    successful_percentage = (successful_episodes_in_window / percentage_window) * 100\n",
    "    successful_episodes_percentages.append(successful_percentage)"
   ]
  },
  {
   "cell_type": "code",
   "execution_count": 31,
   "metadata": {},
   "outputs": [
    {
     "data": {
      "image/png": "[encoded data removed]",
      "text/plain": [
       "<Figure size 432x288 with 1 Axes>"
      ]
     },
     "metadata": {
      "needs_background": "light"
     },
     "output_type": "display_data"
    }
   ],
   "source": [
    "import matplotlib.pyplot as plt\n",
    "\n",
    "# Create a bar plot for the percentage of successful episodes\n",
    "windows = list(range(1, len(successful_episodes_percentages) + 1))\n",
    "plt.bar(windows, successful_episodes_percentages, color='blue')\n",
    "\n",
    "# Add labels and title\n",
    "plt.xlabel('Window of 10 Episodes')\n",
    "plt.ylabel('Percentage of Successful Episodes')\n",
    "plt.title('Percentage of Successful Episodes for Every 10 Episodes')\n",
    "\n",
    "# Display the plot\n",
    "plt.show()"
   ]
  },
  {
   "cell_type": "code",
   "execution_count": 16,
   "metadata": {},
   "outputs": [
    {
     "name": "stdout",
     "output_type": "stream",
     "text": [
      "Mean evaluation reward over 100 episodes: 0.36\n"
     ]
    }
   ],
   "source": [
    "# Load the trained model\n",
    "checkpoint = torch.load(PATH)\n",
    "policy_net.load_state_dict(checkpoint['policy_net_state_dict'])\n",
    "\n",
    "# Set the environment to evaluation mode\n",
    "env = env.unwrapped\n",
    "env.seed(42)\n",
    "torch.manual_seed(42)\n",
    "\n",
    "num_evaluation_episodes = 100\n",
    "evaluation_rewards = []\n",
    "\n",
    "for i_episode in range(num_evaluation_episodes):\n",
    "    env.reset()\n",
    "    state = get_screen()\n",
    "    stacked_states = collections.deque(STACK_SIZE*[state], maxlen=STACK_SIZE)\n",
    "    episode_reward = 0\n",
    "\n",
    "    while True:\n",
    "        stacked_states_t = torch.cat(tuple(stacked_states), dim=1)\n",
    "\n",
    "        # Take the best action (greedy)\n",
    "        with torch.no_grad():\n",
    "            action = policy_net(stacked_states_t).max(1)[1].view(1, 1)\n",
    "\n",
    "        _, reward, done, _ = env.step(action.item())\n",
    "        episode_reward += reward\n",
    "\n",
    "        # Observe new state\n",
    "        next_state = get_screen()\n",
    "        if not done:\n",
    "            next_stacked_states = stacked_states\n",
    "            next_stacked_states.append(next_state)\n",
    "            next_stacked_states_t = torch.cat(tuple(next_stacked_states), dim=1)\n",
    "        else:\n",
    "            next_stacked_states_t = None\n",
    "\n",
    "        stacked_states = next_stacked_states\n",
    "\n",
    "        if done:\n",
    "            break\n",
    "\n",
    "    evaluation_rewards.append(episode_reward)\n",
    "\n",
    "mean_evaluation_reward = np.mean(evaluation_rewards)\n",
    "print(\"Mean evaluation reward over {} episodes: {:.2f}\".format(num_evaluation_episodes, mean_evaluation_reward))"
   ]
  },
  {
   "cell_type": "code",
   "execution_count": 17,
   "metadata": {},
   "outputs": [
    {
     "data": {
      "image/png": "[encoded data removed]",
      "text/plain": [
       "<Figure size 432x288 with 1 Axes>"
      ]
     },
     "metadata": {
      "needs_background": "light"
     },
     "output_type": "display_data"
    }
   ],
   "source": [
    "import matplotlib.pyplot as plt\n",
    "\n",
    "# The code from the previous evaluation loop should be executed before this\n",
    "\n",
    "# Create a bar plot for evaluation rewards\n",
    "episodes = list(range(1, num_evaluation_episodes + 1))\n",
    "plt.bar(episodes, evaluation_rewards, color='blue')\n",
    "\n",
    "# Add labels and title\n",
    "plt.xlabel('Evaluation Episode')\n",
    "plt.ylabel('Reward')\n",
    "plt.title('Rewards per Evaluation Episode')\n",
    "\n",
    "# Display the plot\n",
    "plt.show()"
   ]
  },
  {
   "cell_type": "code",
   "execution_count": 21,
   "metadata": {},
   "outputs": [
    {
     "name": "stdout",
     "output_type": "stream",
     "text": [
      "Success rate over 100 episodes: 0.00\n"
     ]
    },
    {
     "data": {
      "image/png": "[encoded data removed]",
      "text/plain": [
       "<Figure size 432x288 with 1 Axes>"
      ]
     },
     "metadata": {
      "needs_background": "light"
     },
     "output_type": "display_data"
    }
   ],
   "source": [
    "# Load the trained model\n",
    "checkpoint = torch.load(PATH)\n",
    "policy_net.load_state_dict(checkpoint['policy_net_state_dict'])\n",
    "\n",
    "# Set the environment to evaluation mode\n",
    "env = env.unwrapped\n",
    "env.seed(42)\n",
    "torch.manual_seed(42)\n",
    "\n",
    "num_evaluation_episodes = 100\n",
    "evaluation_rewards = []\n",
    "success_threshold = 50\n",
    "successful_episodes = 0\n",
    "\n",
    "for i_episode in range(num_evaluation_episodes):\n",
    "    env.reset()\n",
    "    state = get_screen()\n",
    "    stacked_states = collections.deque(STACK_SIZE*[state], maxlen=STACK_SIZE)\n",
    "    episode_reward = 0\n",
    "\n",
    "    while True:\n",
    "        stacked_states_t = torch.cat(tuple(stacked_states), dim=1)\n",
    "\n",
    "        # Take the best action (greedy)\n",
    "        with torch.no_grad():\n",
    "            action = policy_net(stacked_states_t).max(1)[1].view(1, 1)\n",
    "\n",
    "        _, reward, done, _ = env.step(action.item())\n",
    "        episode_reward += reward\n",
    "\n",
    "        # Observe new state\n",
    "        next_state = get_screen()\n",
    "        if not done:\n",
    "            next_stacked_states = stacked_states\n",
    "            next_stacked_states.append(next_state)\n",
    "            next_stacked_states_t = torch.cat(tuple(next_stacked_states), dim=1)\n",
    "        else:\n",
    "            next_stacked_states_t = None\n",
    "\n",
    "        stacked_states = next_stacked_states\n",
    "\n",
    "        if done:\n",
    "            break\n",
    "\n",
    "    evaluation_rewards.append(episode_reward)\n",
    "    if episode_reward > success_threshold:\n",
    "        successful_episodes += 1\n",
    "\n",
    "success_rate = successful_episodes / num_evaluation_episodes\n",
    "print(\"Success rate over {} episodes: {:.2f}\".format(num_evaluation_episodes, success_rate))\n",
    "\n",
    "# Visualization\n",
    "import matplotlib.pyplot as plt\n",
    "\n",
    "fig, ax = plt.subplots()\n",
    "\n",
    "# Bar plot for evaluation rewards\n",
    "episodes = list(range(1, num_evaluation_episodes + 1))\n",
    "ax.bar(episodes, evaluation_rewards, color='blue')\n",
    "\n",
    "# Add success threshold line\n",
    "ax.axhline(y=0.5, color='red', linestyle='--', label=\"Success Threshold\")\n",
    "\n",
    "# Add labels and title\n",
    "ax.set_xlabel('Evaluation Episode')\n",
    "ax.set_ylabel('Reward')\n",
    "ax.set_title('Rewards per Evaluation Episode and Success Threshold')\n",
    "\n",
    "# Display the legend\n",
    "ax.legend()\n",
    "\n",
    "# Display the plot\n",
    "plt.show()"
   ]
  },
  {
   "cell_type": "code",
   "execution_count": 20,
   "metadata": {},
   "outputs": [
    {
     "data": {
      "image/png": "[encoded data removed]",
      "text/plain": [
       "<Figure size 432x288 with 1 Axes>"
      ]
     },
     "metadata": {
      "needs_background": "light"
     },
     "output_type": "display_data"
    }
   ],
   "source": [
    "import matplotlib.pyplot as plt\n",
    "\n",
    "fig, ax = plt.subplots()\n",
    "\n",
    "# Scatter plot for evaluation rewards\n",
    "episodes = list(range(1, num_evaluation_episodes + 1))\n",
    "ax.scatter(episodes, evaluation_rewards, color='blue', label='Rewards')\n",
    "\n",
    "# Add success threshold line\n",
    "ax.axhline(y=0.5, color='red', linestyle='--', label=\"Success Threshold\")\n",
    "\n",
    "# Add labels and title\n",
    "ax.set_xlabel('Evaluation Episode')\n",
    "ax.set_ylabel('Reward')\n",
    "ax.set_title('Rewards per Evaluation Episode and Success Threshold')\n",
    "\n",
    "# Display the legend\n",
    "ax.legend()\n",
    "\n",
    "# Display the plot\n",
    "plt.show()"
   ]
  }
 ],
 "metadata": {
  "kernelspec": {
   "display_name": "myenv",
   "language": "python",
   "name": "python3"
  },
  "language_info": {
   "codemirror_mode": {
    "name": "ipython",
    "version": 3
   },
   "file_extension": ".py",
   "mimetype": "text/x-python",
   "name": "python",
   "nbconvert_exporter": "python",
   "pygments_lexer": "ipython3",
   "version": "3.6.15"
  },
  "orig_nbformat": 4
 },
 "nbformat": 4,
 "nbformat_minor": 2
}
